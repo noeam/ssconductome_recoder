{
 "cells": [
  {
   "cell_type": "code",
   "execution_count": 77,
   "outputs": [],
   "source": [
    "import pandas as pd\n",
    "import numpy as np"
   ],
   "metadata": {
    "collapsed": false
   }
  },
  {
   "cell_type": "code",
   "execution_count": 78,
   "outputs": [
    {
     "data": {
      "text/plain": "             var campo_unificado code_2014\n0        nac_dia  dia_nacimiento   nac_dia\n1        nac_mes  mes_nacimiento   nac_mes\n2       nac_anio  ano_nacimiento  nac_anio\n3           edad                          \n4      id_puesto                          \n..           ...             ...       ...\n983  rs2228314_C                          \n984   rs738409_C                          \n985  rs5768007_G                          \n986           VI                          \n987           VD                          \n\n[988 rows x 3 columns]",
      "text/html": "<div>\n<style scoped>\n    .dataframe tbody tr th:only-of-type {\n        vertical-align: middle;\n    }\n\n    .dataframe tbody tr th {\n        vertical-align: top;\n    }\n\n    .dataframe thead th {\n        text-align: right;\n    }\n</style>\n<table border=\"1\" class=\"dataframe\">\n  <thead>\n    <tr style=\"text-align: right;\">\n      <th></th>\n      <th>var</th>\n      <th>campo_unificado</th>\n      <th>code_2014</th>\n    </tr>\n  </thead>\n  <tbody>\n    <tr>\n      <th>0</th>\n      <td>nac_dia</td>\n      <td>dia_nacimiento</td>\n      <td>nac_dia</td>\n    </tr>\n    <tr>\n      <th>1</th>\n      <td>nac_mes</td>\n      <td>mes_nacimiento</td>\n      <td>nac_mes</td>\n    </tr>\n    <tr>\n      <th>2</th>\n      <td>nac_anio</td>\n      <td>ano_nacimiento</td>\n      <td>nac_anio</td>\n    </tr>\n    <tr>\n      <th>3</th>\n      <td>edad</td>\n      <td></td>\n      <td></td>\n    </tr>\n    <tr>\n      <th>4</th>\n      <td>id_puesto</td>\n      <td></td>\n      <td></td>\n    </tr>\n    <tr>\n      <th>...</th>\n      <td>...</td>\n      <td>...</td>\n      <td>...</td>\n    </tr>\n    <tr>\n      <th>983</th>\n      <td>rs2228314_C</td>\n      <td></td>\n      <td></td>\n    </tr>\n    <tr>\n      <th>984</th>\n      <td>rs738409_C</td>\n      <td></td>\n      <td></td>\n    </tr>\n    <tr>\n      <th>985</th>\n      <td>rs5768007_G</td>\n      <td></td>\n      <td></td>\n    </tr>\n    <tr>\n      <th>986</th>\n      <td>VI</td>\n      <td></td>\n      <td></td>\n    </tr>\n    <tr>\n      <th>987</th>\n      <td>VD</td>\n      <td></td>\n      <td></td>\n    </tr>\n  </tbody>\n</table>\n<p>988 rows × 3 columns</p>\n</div>"
     },
     "execution_count": 78,
     "metadata": {},
     "output_type": "execute_result"
    }
   ],
   "source": [
    "df_instruct = pd.read_csv(\"C:/Users/noeam/Documents/git/github/ssocial/data/instruccionesH7.csv\")\n",
    "df_2014_dict = pd.read_csv(\"C:/Users/noeam/Documents/git/github/ssocial/data/2014_diccionario.csv\")\n",
    "\n",
    "df_merged = pd.merge(df_2014_dict[['var']], df_instruct[['campo_unificado','code_2014']], left_on=['var'], right_on=['code_2014'], how='left').fillna('')\n",
    "df_merged"
   ],
   "metadata": {
    "collapsed": false
   }
  },
  {
   "cell_type": "code",
   "execution_count": 79,
   "outputs": [
    {
     "data": {
      "text/plain": "         subcategoria          var       var_alias  \\\n0    Datos Personales      nac_dia  dia_nacimiento   \n1    Datos Personales      nac_mes  mes_nacimiento   \n2    Datos Personales     nac_anio  ano_nacimiento   \n3    Datos Personales         edad   edad_paciente   \n4    Datos Personales    id_puesto  puesto_laboral   \n..                ...          ...             ...   \n983          Genética  rs2228314_C     rs2228314_C   \n984          Genética   rs738409_C      rs738409_C   \n985          Genética  rs5768007_G     rs5768007_G   \n986                VI           VI              VI   \n987                VD           VD              VD   \n\n                                           description        5        6  \\\n0                                                  Día  privado  abierta   \n1                                                  Mes  privado  abierta   \n2                                                  Año  privado  abierta   \n3                                    Edad del Paciente  visible  abierta   \n4                                  ¿Qué puesto ocupas?  visible  options   \n..                                                 ...      ...      ...   \n983                                    Datos géneticos      NaN      NaN   \n984                                    Datos géneticos      NaN      NaN   \n985                                    Datos géneticos      NaN      NaN   \n986  Variable Independiente creada a partir de Filtros      NaN      NaN   \n987    Variable Dependiente creada a partir de Filtros      NaN      NaN   \n\n     is_category                                             values  \n0          False                          {'min': 1.0, 'max': 31.0}  \n1          False                          {'min': 1.0, 'max': 12.0}  \n2          False                     {'min': 1933.0, 'max': 1995.0}  \n3          False                         {'min': 19.0, 'max': 81.0}  \n4           True  {'options': {'1': 'INVESTIGADOR ASOCIADO C TIE...  \n..           ...                                                ...  \n983         True                            {'is_category': 'true'}  \n984         True                            {'is_category': 'true'}  \n985         True                            {'is_category': 'true'}  \n986         True                            {'is_category': 'true'}  \n987         True                            {'is_category': 'true'}  \n\n[988 rows x 8 columns]",
      "text/html": "<div>\n<style scoped>\n    .dataframe tbody tr th:only-of-type {\n        vertical-align: middle;\n    }\n\n    .dataframe tbody tr th {\n        vertical-align: top;\n    }\n\n    .dataframe thead th {\n        text-align: right;\n    }\n</style>\n<table border=\"1\" class=\"dataframe\">\n  <thead>\n    <tr style=\"text-align: right;\">\n      <th></th>\n      <th>subcategoria</th>\n      <th>var</th>\n      <th>var_alias</th>\n      <th>description</th>\n      <th>5</th>\n      <th>6</th>\n      <th>is_category</th>\n      <th>values</th>\n    </tr>\n  </thead>\n  <tbody>\n    <tr>\n      <th>0</th>\n      <td>Datos Personales</td>\n      <td>nac_dia</td>\n      <td>dia_nacimiento</td>\n      <td>Día</td>\n      <td>privado</td>\n      <td>abierta</td>\n      <td>False</td>\n      <td>{'min': 1.0, 'max': 31.0}</td>\n    </tr>\n    <tr>\n      <th>1</th>\n      <td>Datos Personales</td>\n      <td>nac_mes</td>\n      <td>mes_nacimiento</td>\n      <td>Mes</td>\n      <td>privado</td>\n      <td>abierta</td>\n      <td>False</td>\n      <td>{'min': 1.0, 'max': 12.0}</td>\n    </tr>\n    <tr>\n      <th>2</th>\n      <td>Datos Personales</td>\n      <td>nac_anio</td>\n      <td>ano_nacimiento</td>\n      <td>Año</td>\n      <td>privado</td>\n      <td>abierta</td>\n      <td>False</td>\n      <td>{'min': 1933.0, 'max': 1995.0}</td>\n    </tr>\n    <tr>\n      <th>3</th>\n      <td>Datos Personales</td>\n      <td>edad</td>\n      <td>edad_paciente</td>\n      <td>Edad del Paciente</td>\n      <td>visible</td>\n      <td>abierta</td>\n      <td>False</td>\n      <td>{'min': 19.0, 'max': 81.0}</td>\n    </tr>\n    <tr>\n      <th>4</th>\n      <td>Datos Personales</td>\n      <td>id_puesto</td>\n      <td>puesto_laboral</td>\n      <td>¿Qué puesto ocupas?</td>\n      <td>visible</td>\n      <td>options</td>\n      <td>True</td>\n      <td>{'options': {'1': 'INVESTIGADOR ASOCIADO C TIE...</td>\n    </tr>\n    <tr>\n      <th>...</th>\n      <td>...</td>\n      <td>...</td>\n      <td>...</td>\n      <td>...</td>\n      <td>...</td>\n      <td>...</td>\n      <td>...</td>\n      <td>...</td>\n    </tr>\n    <tr>\n      <th>983</th>\n      <td>Genética</td>\n      <td>rs2228314_C</td>\n      <td>rs2228314_C</td>\n      <td>Datos géneticos</td>\n      <td>NaN</td>\n      <td>NaN</td>\n      <td>True</td>\n      <td>{'is_category': 'true'}</td>\n    </tr>\n    <tr>\n      <th>984</th>\n      <td>Genética</td>\n      <td>rs738409_C</td>\n      <td>rs738409_C</td>\n      <td>Datos géneticos</td>\n      <td>NaN</td>\n      <td>NaN</td>\n      <td>True</td>\n      <td>{'is_category': 'true'}</td>\n    </tr>\n    <tr>\n      <th>985</th>\n      <td>Genética</td>\n      <td>rs5768007_G</td>\n      <td>rs5768007_G</td>\n      <td>Datos géneticos</td>\n      <td>NaN</td>\n      <td>NaN</td>\n      <td>True</td>\n      <td>{'is_category': 'true'}</td>\n    </tr>\n    <tr>\n      <th>986</th>\n      <td>VI</td>\n      <td>VI</td>\n      <td>VI</td>\n      <td>Variable Independiente creada a partir de Filtros</td>\n      <td>NaN</td>\n      <td>NaN</td>\n      <td>True</td>\n      <td>{'is_category': 'true'}</td>\n    </tr>\n    <tr>\n      <th>987</th>\n      <td>VD</td>\n      <td>VD</td>\n      <td>VD</td>\n      <td>Variable Dependiente creada a partir de Filtros</td>\n      <td>NaN</td>\n      <td>NaN</td>\n      <td>True</td>\n      <td>{'is_category': 'true'}</td>\n    </tr>\n  </tbody>\n</table>\n<p>988 rows × 8 columns</p>\n</div>"
     },
     "execution_count": 79,
     "metadata": {},
     "output_type": "execute_result"
    }
   ],
   "source": [
    "df_2014_dict"
   ],
   "metadata": {
    "collapsed": false
   }
  },
  {
   "cell_type": "code",
   "execution_count": 80,
   "outputs": [
    {
     "data": {
      "text/plain": "         subcategoria          var       var_alias  \\\n0    Datos Personales      nac_dia  dia_nacimiento   \n1    Datos Personales      nac_mes  mes_nacimiento   \n2    Datos Personales     nac_anio  ano_nacimiento   \n3    Datos Personales         edad   edad_paciente   \n4    Datos Personales    id_puesto  puesto_laboral   \n..                ...          ...             ...   \n983          Genética  rs2228314_C     rs2228314_C   \n984          Genética   rs738409_C      rs738409_C   \n985          Genética  rs5768007_G     rs5768007_G   \n986                VI           VI              VI   \n987                VD           VD              VD   \n\n                                           description        5        6  \\\n0                                                  Día  privado  abierta   \n1                                                  Mes  privado  abierta   \n2                                                  Año  privado  abierta   \n3                                    Edad del Paciente  visible  abierta   \n4                                  ¿Qué puesto ocupas?  visible  options   \n..                                                 ...      ...      ...   \n983                                    Datos géneticos      NaN      NaN   \n984                                    Datos géneticos      NaN      NaN   \n985                                    Datos géneticos      NaN      NaN   \n986  Variable Independiente creada a partir de Filtros      NaN      NaN   \n987    Variable Dependiente creada a partir de Filtros      NaN      NaN   \n\n     is_category                                             values  \\\n0          False                          {'min': 1.0, 'max': 31.0}   \n1          False                          {'min': 1.0, 'max': 12.0}   \n2          False                     {'min': 1933.0, 'max': 1995.0}   \n3          False                         {'min': 19.0, 'max': 81.0}   \n4           True  {'options': {'1': 'INVESTIGADOR ASOCIADO C TIE...   \n..           ...                                                ...   \n983         True                            {'is_category': 'true'}   \n984         True                            {'is_category': 'true'}   \n985         True                            {'is_category': 'true'}   \n986         True                            {'is_category': 'true'}   \n987         True                            {'is_category': 'true'}   \n\n          unificado  \n0    dia_nacimiento  \n1    mes_nacimiento  \n2    ano_nacimiento  \n3                    \n4                    \n..              ...  \n983                  \n984                  \n985                  \n986                  \n987                  \n\n[988 rows x 9 columns]",
      "text/html": "<div>\n<style scoped>\n    .dataframe tbody tr th:only-of-type {\n        vertical-align: middle;\n    }\n\n    .dataframe tbody tr th {\n        vertical-align: top;\n    }\n\n    .dataframe thead th {\n        text-align: right;\n    }\n</style>\n<table border=\"1\" class=\"dataframe\">\n  <thead>\n    <tr style=\"text-align: right;\">\n      <th></th>\n      <th>subcategoria</th>\n      <th>var</th>\n      <th>var_alias</th>\n      <th>description</th>\n      <th>5</th>\n      <th>6</th>\n      <th>is_category</th>\n      <th>values</th>\n      <th>unificado</th>\n    </tr>\n  </thead>\n  <tbody>\n    <tr>\n      <th>0</th>\n      <td>Datos Personales</td>\n      <td>nac_dia</td>\n      <td>dia_nacimiento</td>\n      <td>Día</td>\n      <td>privado</td>\n      <td>abierta</td>\n      <td>False</td>\n      <td>{'min': 1.0, 'max': 31.0}</td>\n      <td>dia_nacimiento</td>\n    </tr>\n    <tr>\n      <th>1</th>\n      <td>Datos Personales</td>\n      <td>nac_mes</td>\n      <td>mes_nacimiento</td>\n      <td>Mes</td>\n      <td>privado</td>\n      <td>abierta</td>\n      <td>False</td>\n      <td>{'min': 1.0, 'max': 12.0}</td>\n      <td>mes_nacimiento</td>\n    </tr>\n    <tr>\n      <th>2</th>\n      <td>Datos Personales</td>\n      <td>nac_anio</td>\n      <td>ano_nacimiento</td>\n      <td>Año</td>\n      <td>privado</td>\n      <td>abierta</td>\n      <td>False</td>\n      <td>{'min': 1933.0, 'max': 1995.0}</td>\n      <td>ano_nacimiento</td>\n    </tr>\n    <tr>\n      <th>3</th>\n      <td>Datos Personales</td>\n      <td>edad</td>\n      <td>edad_paciente</td>\n      <td>Edad del Paciente</td>\n      <td>visible</td>\n      <td>abierta</td>\n      <td>False</td>\n      <td>{'min': 19.0, 'max': 81.0}</td>\n      <td></td>\n    </tr>\n    <tr>\n      <th>4</th>\n      <td>Datos Personales</td>\n      <td>id_puesto</td>\n      <td>puesto_laboral</td>\n      <td>¿Qué puesto ocupas?</td>\n      <td>visible</td>\n      <td>options</td>\n      <td>True</td>\n      <td>{'options': {'1': 'INVESTIGADOR ASOCIADO C TIE...</td>\n      <td></td>\n    </tr>\n    <tr>\n      <th>...</th>\n      <td>...</td>\n      <td>...</td>\n      <td>...</td>\n      <td>...</td>\n      <td>...</td>\n      <td>...</td>\n      <td>...</td>\n      <td>...</td>\n      <td>...</td>\n    </tr>\n    <tr>\n      <th>983</th>\n      <td>Genética</td>\n      <td>rs2228314_C</td>\n      <td>rs2228314_C</td>\n      <td>Datos géneticos</td>\n      <td>NaN</td>\n      <td>NaN</td>\n      <td>True</td>\n      <td>{'is_category': 'true'}</td>\n      <td></td>\n    </tr>\n    <tr>\n      <th>984</th>\n      <td>Genética</td>\n      <td>rs738409_C</td>\n      <td>rs738409_C</td>\n      <td>Datos géneticos</td>\n      <td>NaN</td>\n      <td>NaN</td>\n      <td>True</td>\n      <td>{'is_category': 'true'}</td>\n      <td></td>\n    </tr>\n    <tr>\n      <th>985</th>\n      <td>Genética</td>\n      <td>rs5768007_G</td>\n      <td>rs5768007_G</td>\n      <td>Datos géneticos</td>\n      <td>NaN</td>\n      <td>NaN</td>\n      <td>True</td>\n      <td>{'is_category': 'true'}</td>\n      <td></td>\n    </tr>\n    <tr>\n      <th>986</th>\n      <td>VI</td>\n      <td>VI</td>\n      <td>VI</td>\n      <td>Variable Independiente creada a partir de Filtros</td>\n      <td>NaN</td>\n      <td>NaN</td>\n      <td>True</td>\n      <td>{'is_category': 'true'}</td>\n      <td></td>\n    </tr>\n    <tr>\n      <th>987</th>\n      <td>VD</td>\n      <td>VD</td>\n      <td>VD</td>\n      <td>Variable Dependiente creada a partir de Filtros</td>\n      <td>NaN</td>\n      <td>NaN</td>\n      <td>True</td>\n      <td>{'is_category': 'true'}</td>\n      <td></td>\n    </tr>\n  </tbody>\n</table>\n<p>988 rows × 9 columns</p>\n</div>"
     },
     "execution_count": 80,
     "metadata": {},
     "output_type": "execute_result"
    }
   ],
   "source": [
    "# EN TEORIA df_merged y df_2014_dict deben tener la misma cantidad de renglones (rows)\n",
    "# Agregar la nueva columna al segundo dataframe\n",
    "df_2014_dict['unificado'] = df_merged['campo_unificado']\n",
    "\"\"\"df_2014_dict['unificadoooo'] = df_2014_dict['var']\n",
    "for index, row in df_2014_dict.iterrows():\n",
    "    print(index, row[\"var\"])\n",
    "    if df_merged.loc[index, 'var'] == row[\"var\"]:\n",
    "        new_code = df_merged.loc[df_merged[\"var\"] == row[\"var\"], \"campo_unificado\"].iloc[0]\n",
    "    else:\n",
    "        new_code = \"\"\n",
    "    print(new_code)\n",
    "    df_2014_dict['unificadoooo'][index] = new_code\"\"\"\n",
    "df_2014_dict"
   ],
   "metadata": {
    "collapsed": false
   }
  },
  {
   "cell_type": "code",
   "execution_count": 33,
   "outputs": [
    {
     "name": "stdout",
     "output_type": "stream",
     "text": [
      "      locout_act  rest_act\n",
      "0              0         0\n",
      "1              1         0\n",
      "2              0         1\n",
      "3              0         0\n",
      "4              0         2\n",
      "...          ...       ...\n",
      "1070           0         1\n",
      "1071           1         3\n",
      "1072           0         5\n",
      "1073           0         0\n",
      "1074           0         2\n",
      "\n",
      "[1075 rows x 2 columns]\n",
      "      locout1  rest1\n",
      "0           0      0\n",
      "1           1      1\n",
      "2           0      1\n",
      "3           0      0\n",
      "4           0      2\n",
      "...       ...    ...\n",
      "1070        0      1\n",
      "1071        1      2\n",
      "1072        0      5\n",
      "1073        0      0\n",
      "1074        0      2\n",
      "\n",
      "[1075 rows x 2 columns]\n",
      "      locout5  rest5\n",
      "0           0      0\n",
      "1           1      0\n",
      "2           1      3\n",
      "3           0      0\n",
      "4           0      1\n",
      "...       ...    ...\n",
      "1070        0      1\n",
      "1071        1      2\n",
      "1072        0      5\n",
      "1073        0      0\n",
      "1074        0      2\n",
      "\n",
      "[1075 rows x 2 columns]\n"
     ]
    }
   ],
   "source": [
    "# FUNCIONES ESPECIALES\n",
    "\n",
    "def esp_163(df, column_name):\n",
    "    # Create a new column to hold the recoded values\n",
    "    new_column_name = column_name + \"_recoded\"\n",
    "    df[new_column_name] = None\n",
    "\n",
    "    # Define the conditions and values to recode\n",
    "    conditions = [(df[column_name] < 10),\n",
    "                  (df[column_name] >= 10) & (df[column_name] < 30),\n",
    "                  (df[column_name] >= 30) & (df[column_name] < 50),\n",
    "                  (df[column_name] >= 50) & (df[column_name] < 70),\n",
    "                  (df[column_name] >= 70)]\n",
    "    values = [\"<10\", \"10-29\", \"30-49\", \"50-69\", \">=70\"]\n",
    "\n",
    "    # Recode the values based on the conditions and values defined\n",
    "    df[new_column_name] = pd.Series(np.select(conditions, values))\n",
    "\n",
    "    return df\n",
    "\n",
    "def esp_166_168(df, column_name):\n",
    "    # Create a new column to hold the recoded values\n",
    "    new_column_name = column_name + \"_recoded\"\n",
    "    df[new_column_name] = None\n",
    "    # Define the conditions and values to recode\n",
    "    conditions = [(df[column_name]/4 >= 0) & (df[column_name]/4 < 50),\n",
    "                  (df[column_name]/4 >= 50) & (df[column_name]/4 < 100),\n",
    "                  (df[column_name]/4 >= 100) & (df[column_name]/4 < 200),\n",
    "                  (df[column_name]/4 >= 200) & (df[column_name]/4 < 300),\n",
    "                  (df[column_name]/4 >= 300)]\n",
    "    values = [\"0-49\", \"50-100\", \"100-200\", \"200-300\", \">=300\"]\n",
    "\n",
    "    # Recode the values based on the conditions and values defined\n",
    "    df[new_column_name] = pd.Series(np.select(conditions, values))\n",
    "\n",
    "    return df\n",
    "\n",
    "def esp_181_183(df, column_name1, column_name2):\n",
    "    # Create a new column to hold the recoded values\n",
    "    new_column_name = column_name1 + \"_recoded\"\n",
    "    df[new_column_name] = None\n",
    "    print(df[[column_name1, column_name2]])\n",
    "    df[new_column_name] = df[[column_name1, column_name2]].mean(axis=1)\n",
    "    # Define the conditions and values to recode\n",
    "    conditions = [(df[new_column_name] >= 0) & (df[new_column_name] < 1),\n",
    "                  (df[new_column_name] >= 1) & (df[new_column_name] < 2),\n",
    "                  (df[new_column_name] >= 2) & (df[new_column_name] <= 3),\n",
    "                  (df[new_column_name] >= 4) & (df[new_column_name] <= 5),\n",
    "                  (df[new_column_name] >= 6) & (df[new_column_name] <= 8),\n",
    "                  (df[new_column_name] > 8)]\n",
    "    values = [\"0\", \"1\", \"2-3\", \"4-5\", \"6-8\", \">8\"]\n",
    "\n",
    "    # Recode the values based on the conditions and values defined\n",
    "    df[new_column_name] = pd.Series(np.select(conditions, values))\n",
    "\n",
    "    return df"
   ],
   "metadata": {
    "collapsed": false
   }
  },
  {
   "cell_type": "code",
   "execution_count": null,
   "outputs": [],
   "source": [
    "df = pd.read_csv(\"C:/Users/noeam/Documents/git/github/ssocial/data/2014_datos.csv\")\n",
    "# 6 variables especiales\n",
    "df = esp_163(df, \"por_obes\")\n",
    "df = esp_166_168(df, \"cal_ref\")\n",
    "df = esp_166_168(df, \"cal_agua\")\n",
    "df = esp_181_183(df, \"locout_act\", \"rest_act\")\n",
    "df = esp_181_183(df, \"locout1\", \"rest1\")\n",
    "df = esp_181_183(df, \"locout5\", \"rest5\")"
   ],
   "metadata": {
    "collapsed": false
   }
  },
  {
   "cell_type": "code",
   "execution_count": 34,
   "outputs": [
    {
     "data": {
      "text/plain": "     por_obes_recoded cal_ref_recoded cal_agua_recoded locout_act_recoded  \\\n0               30-49               0             0-49                  0   \n1                >=70               0                0                  0   \n2                   0            0-49             0-49                  0   \n3               50-69               0                0                  0   \n4                   0               0             0-49                  1   \n...               ...             ...              ...                ...   \n1070            30-49          50-100             0-49                  0   \n1071                0               0                0                2-3   \n1072            30-49            0-49             0-49                2-3   \n1073            50-69         100-200             0-49                  0   \n1074                0               0             0-49                  1   \n\n     locout1_recoded locout5_recoded  \n0                  0               0  \n1                  1               0  \n2                  0             2-3  \n3                  0               0  \n4                  1               0  \n...              ...             ...  \n1070               0               0  \n1071               1               1  \n1072             2-3             2-3  \n1073               0               0  \n1074               1               1  \n\n[1075 rows x 6 columns]",
      "text/html": "<div>\n<style scoped>\n    .dataframe tbody tr th:only-of-type {\n        vertical-align: middle;\n    }\n\n    .dataframe tbody tr th {\n        vertical-align: top;\n    }\n\n    .dataframe thead th {\n        text-align: right;\n    }\n</style>\n<table border=\"1\" class=\"dataframe\">\n  <thead>\n    <tr style=\"text-align: right;\">\n      <th></th>\n      <th>por_obes_recoded</th>\n      <th>cal_ref_recoded</th>\n      <th>cal_agua_recoded</th>\n      <th>locout_act_recoded</th>\n      <th>locout1_recoded</th>\n      <th>locout5_recoded</th>\n    </tr>\n  </thead>\n  <tbody>\n    <tr>\n      <th>0</th>\n      <td>30-49</td>\n      <td>0</td>\n      <td>0-49</td>\n      <td>0</td>\n      <td>0</td>\n      <td>0</td>\n    </tr>\n    <tr>\n      <th>1</th>\n      <td>&gt;=70</td>\n      <td>0</td>\n      <td>0</td>\n      <td>0</td>\n      <td>1</td>\n      <td>0</td>\n    </tr>\n    <tr>\n      <th>2</th>\n      <td>0</td>\n      <td>0-49</td>\n      <td>0-49</td>\n      <td>0</td>\n      <td>0</td>\n      <td>2-3</td>\n    </tr>\n    <tr>\n      <th>3</th>\n      <td>50-69</td>\n      <td>0</td>\n      <td>0</td>\n      <td>0</td>\n      <td>0</td>\n      <td>0</td>\n    </tr>\n    <tr>\n      <th>4</th>\n      <td>0</td>\n      <td>0</td>\n      <td>0-49</td>\n      <td>1</td>\n      <td>1</td>\n      <td>0</td>\n    </tr>\n    <tr>\n      <th>...</th>\n      <td>...</td>\n      <td>...</td>\n      <td>...</td>\n      <td>...</td>\n      <td>...</td>\n      <td>...</td>\n    </tr>\n    <tr>\n      <th>1070</th>\n      <td>30-49</td>\n      <td>50-100</td>\n      <td>0-49</td>\n      <td>0</td>\n      <td>0</td>\n      <td>0</td>\n    </tr>\n    <tr>\n      <th>1071</th>\n      <td>0</td>\n      <td>0</td>\n      <td>0</td>\n      <td>2-3</td>\n      <td>1</td>\n      <td>1</td>\n    </tr>\n    <tr>\n      <th>1072</th>\n      <td>30-49</td>\n      <td>0-49</td>\n      <td>0-49</td>\n      <td>2-3</td>\n      <td>2-3</td>\n      <td>2-3</td>\n    </tr>\n    <tr>\n      <th>1073</th>\n      <td>50-69</td>\n      <td>100-200</td>\n      <td>0-49</td>\n      <td>0</td>\n      <td>0</td>\n      <td>0</td>\n    </tr>\n    <tr>\n      <th>1074</th>\n      <td>0</td>\n      <td>0</td>\n      <td>0-49</td>\n      <td>1</td>\n      <td>1</td>\n      <td>1</td>\n    </tr>\n  </tbody>\n</table>\n<p>1075 rows × 6 columns</p>\n</div>"
     },
     "execution_count": 34,
     "metadata": {},
     "output_type": "execute_result"
    }
   ],
   "source": [
    "new_df = df[['por_obes_recoded', 'cal_ref_recoded', 'cal_agua_recoded', 'locout_act_recoded', 'locout1_recoded', 'locout5_recoded']]\n",
    "new_df"
   ],
   "metadata": {
    "collapsed": false
   }
  }
 ],
 "metadata": {
  "kernelspec": {
   "display_name": "Python 3",
   "language": "python",
   "name": "python3"
  },
  "language_info": {
   "codemirror_mode": {
    "name": "ipython",
    "version": 2
   },
   "file_extension": ".py",
   "mimetype": "text/x-python",
   "name": "python",
   "nbconvert_exporter": "python",
   "pygments_lexer": "ipython2",
   "version": "2.7.6"
  }
 },
 "nbformat": 4,
 "nbformat_minor": 0
}

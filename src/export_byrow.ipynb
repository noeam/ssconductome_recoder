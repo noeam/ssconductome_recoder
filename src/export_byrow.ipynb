{
 "cells": [
  {
   "cell_type": "code",
   "execution_count": 1,
   "id": "cc4884c6-02ad-4456-84c7-1d7e8b5d7737",
   "metadata": {},
   "outputs": [],
   "source": [
    "import pandas as pd\n",
    "import src.data_processor as new"
   ]
  },
  {
   "cell_type": "code",
   "execution_count": 2,
   "outputs": [],
   "source": [
    "# Leemos los csv existentes\n",
    "df1_dict, df1_data, df_instructions, df2_data = new.read_data()"
   ],
   "metadata": {
    "collapsed": false
   }
  },
  {
   "cell_type": "code",
   "execution_count": 3,
   "outputs": [
    {
     "name": "stdout",
     "output_type": "stream",
     "text": [
      "\n",
      "----------------------------\n",
      "ESTAMOS EN EL RENGLON DE INSTRUCCIONES: 10 - edad_dx_enfermedades_cronicas\n",
      "Numericos: 112\n",
      "La columna es numerica y se podra encontrar un maximo y minimo\n"
     ]
    }
   ],
   "source": [
    "# Creamos un nuevo dataframe vacio para guardar los datos recodificados\n",
    "df2_data_new = pd.DataFrame()\n",
    "# Creamos un nuevo dataframe con la estructura diccionario de datos correspondiente a los datos recodificados\n",
    "df2_dict_new = new.create_dict()\n",
    "# Guardamos los indices y nombres de las columnas que no se pudieran procesar.\n",
    "no_encontrado = {'name_column': [], 'id_column': []}\n",
    "\n",
    "special_cols = [98, 99, 100, 163, 166, 167, 168, 181, 182, 183]\n",
    "# Procesamos el renglon n\n",
    "n = 10 #10 (edad)\n",
    "\n",
    "print(f\"\\n----------------------------\\nESTAMOS EN EL RENGLON DE INSTRUCCIONES: {n} - {df_instructions['code_fmed_completo'].iloc[n]}\")\n",
    "\n",
    "new_column_name, description_df1, description_df2,\\\n",
    "    description_final, value_options, options_updated,\\\n",
    "    actions, df1_column_name, df2_column_name, category = new.read_instructions(df_instructions, n)\n",
    "\n",
    "value_options, actions = new.convert_to_dict(value_options, actions)\n",
    "\n",
    "if df2_column_name in df2_data.columns:\n",
    "    # Aplicamos las acciones y obtenemos las entradas que se agregaran como un nuevo renglon al diccionario\n",
    "    code, description, options, category = new.apply_actions(df2_data, df2_data_new, new_column_name,\n",
    "                                                             description_df1, description_df2, description_final,\n",
    "                                                             value_options, options_updated, actions,\n",
    "                                                             df1_column_name, df2_column_name, category)\n",
    "    df2_dict_new = new.add_to_new_dict(df2_dict_new, code, description, options, category)\n",
    "else:\n",
    "    print(f\"La variable {df2_column_name} en el renglon {n} no se encuentra en el dataframe original de datos de fmed\")\n",
    "    no_encontrado['name_column'].append(df2_column_name)\n",
    "    no_encontrado['id_column'].append(n)"
   ],
   "metadata": {
    "collapsed": false
   }
  },
  {
   "cell_type": "code",
   "execution_count": 4,
   "id": "0c6e9fb6-71a5-40dc-a7a1-fb2376107b6d",
   "metadata": {},
   "outputs": [
    {
     "data": {
      "text/plain": "                  category     campo_unificado  \\\n0  antecedentes_personales  edad_dx_diab_tipo2   \n\n                                         description  \\\n0  ¿Aproximadamente a que edad se diagnosticó la ...   \n\n                     options  \n0  {'min': 0.0, 'max': 21.0}  ",
      "text/html": "<div>\n<style scoped>\n    .dataframe tbody tr th:only-of-type {\n        vertical-align: middle;\n    }\n\n    .dataframe tbody tr th {\n        vertical-align: top;\n    }\n\n    .dataframe thead th {\n        text-align: right;\n    }\n</style>\n<table border=\"1\" class=\"dataframe\">\n  <thead>\n    <tr style=\"text-align: right;\">\n      <th></th>\n      <th>category</th>\n      <th>campo_unificado</th>\n      <th>description</th>\n      <th>options</th>\n    </tr>\n  </thead>\n  <tbody>\n    <tr>\n      <th>0</th>\n      <td>antecedentes_personales</td>\n      <td>edad_dx_diab_tipo2</td>\n      <td>¿Aproximadamente a que edad se diagnosticó la ...</td>\n      <td>{'min': 0.0, 'max': 21.0}</td>\n    </tr>\n  </tbody>\n</table>\n</div>"
     },
     "execution_count": 4,
     "metadata": {},
     "output_type": "execute_result"
    }
   ],
   "source": [
    "df2_dict_new"
   ]
  },
  {
   "cell_type": "code",
   "execution_count": 5,
   "outputs": [
    {
     "data": {
      "text/plain": "     edad_dx_diab_tipo2\n0                   NaN\n1                   NaN\n2                  17.0\n3                   NaN\n4                  16.0\n..                  ...\n839                 NaN\n840                 NaN\n841                 NaN\n842                 NaN\n843                 NaN\n\n[844 rows x 1 columns]",
      "text/html": "<div>\n<style scoped>\n    .dataframe tbody tr th:only-of-type {\n        vertical-align: middle;\n    }\n\n    .dataframe tbody tr th {\n        vertical-align: top;\n    }\n\n    .dataframe thead th {\n        text-align: right;\n    }\n</style>\n<table border=\"1\" class=\"dataframe\">\n  <thead>\n    <tr style=\"text-align: right;\">\n      <th></th>\n      <th>edad_dx_diab_tipo2</th>\n    </tr>\n  </thead>\n  <tbody>\n    <tr>\n      <th>0</th>\n      <td>NaN</td>\n    </tr>\n    <tr>\n      <th>1</th>\n      <td>NaN</td>\n    </tr>\n    <tr>\n      <th>2</th>\n      <td>17.0</td>\n    </tr>\n    <tr>\n      <th>3</th>\n      <td>NaN</td>\n    </tr>\n    <tr>\n      <th>4</th>\n      <td>16.0</td>\n    </tr>\n    <tr>\n      <th>...</th>\n      <td>...</td>\n    </tr>\n    <tr>\n      <th>839</th>\n      <td>NaN</td>\n    </tr>\n    <tr>\n      <th>840</th>\n      <td>NaN</td>\n    </tr>\n    <tr>\n      <th>841</th>\n      <td>NaN</td>\n    </tr>\n    <tr>\n      <th>842</th>\n      <td>NaN</td>\n    </tr>\n    <tr>\n      <th>843</th>\n      <td>NaN</td>\n    </tr>\n  </tbody>\n</table>\n<p>844 rows × 1 columns</p>\n</div>"
     },
     "execution_count": 5,
     "metadata": {},
     "output_type": "execute_result"
    }
   ],
   "source": [
    "df2_data_new"
   ],
   "metadata": {
    "collapsed": false
   }
  },
  {
   "cell_type": "code",
   "execution_count": 6,
   "outputs": [
    {
     "name": "stdout",
     "output_type": "stream",
     "text": [
      "<class 'float'>    844\n",
      "Name: edad_dx_diab_tipo2, dtype: int64\n"
     ]
    }
   ],
   "source": [
    "s = df2_data_new['edad_dx_diab_tipo2']\n",
    "counts = s.apply(type).value_counts()\n",
    "print(counts)"
   ],
   "metadata": {
    "collapsed": false
   }
  }
 ],
 "metadata": {
  "kernelspec": {
   "display_name": "Python 3 (ipykernel)",
   "language": "python",
   "name": "python3"
  },
  "language_info": {
   "codemirror_mode": {
    "name": "ipython",
    "version": 3
   },
   "file_extension": ".py",
   "mimetype": "text/x-python",
   "name": "python",
   "nbconvert_exporter": "python",
   "pygments_lexer": "ipython3",
   "version": "3.10.9"
  }
 },
 "nbformat": 4,
 "nbformat_minor": 5
}
